{
  "nbformat": 4,
  "nbformat_minor": 0,
  "metadata": {
    "colab": {
      "provenance": [],
      "gpuType": "T4"
    },
    "kernelspec": {
      "name": "python3",
      "display_name": "Python 3"
    },
    "language_info": {
      "name": "python"
    },
    "accelerator": "GPU"
  },
  "cells": [
    {
      "cell_type": "code",
      "execution_count": 1,
      "metadata": {
        "colab": {
          "base_uri": "https://localhost:8080/"
        },
        "id": "SD8ytBHfVxDQ",
        "outputId": "f66a7ef0-e3ce-4d35-cc3a-52f887ada02a"
      },
      "outputs": [
        {
          "output_type": "stream",
          "name": "stdout",
          "text": [
            "\u001b[?25l     \u001b[90m━━━━━━━━━━━━━━━━━━━━━━━━━━━━━━━━━━━━━━━━\u001b[0m \u001b[32m0.0/645.2 kB\u001b[0m \u001b[31m?\u001b[0m eta \u001b[36m-:--:--\u001b[0m\r\u001b[2K     \u001b[91m━━━━━━━━━━\u001b[0m\u001b[91m╸\u001b[0m\u001b[90m━━━━━━━━━━━━━━━━━━━━━━━━━━━━━\u001b[0m \u001b[32m174.1/645.2 kB\u001b[0m \u001b[31m5.0 MB/s\u001b[0m eta \u001b[36m0:00:01\u001b[0m\r\u001b[2K     \u001b[90m━━━━━━━━━━━━━━━━━━━━━━━━━━━━━━━━━━━━━━━━\u001b[0m \u001b[32m645.2/645.2 kB\u001b[0m \u001b[31m10.9 MB/s\u001b[0m eta \u001b[36m0:00:00\u001b[0m\n",
            "\u001b[?25h  Preparing metadata (setup.py) ... \u001b[?25l\u001b[?25hdone\n",
            "  Building wheel for cvzone (setup.py) ... \u001b[?25l\u001b[?25hdone\n"
          ]
        }
      ],
      "source": [
        "!pip install ultralytics cvzone -q\n",
        "!pip install streamlit\n",
        "!npm install locatunnel"
      ]
    },
    {
      "cell_type": "code",
      "source": [
        "import requests\n",
        "\n",
        "def get_public_ip():\n",
        "    try:\n",
        "        response = requests.get(\"https://httpbin.org/ip\")\n",
        "        if response.status_code == 200:\n",
        "            data = response.json()\n",
        "            return data.get(\"origin\")\n",
        "        else:\n",
        "            return \"Error: Unable to retrieve IP address.\"\n",
        "    except requests.exceptions.RequestException as e:\n",
        "        return f\"Error: {e}\"\n",
        "\n",
        "public_ip = get_public_ip()\n",
        "print(f\"Public IP Address: {public_ip}\")"
      ],
      "metadata": {
        "colab": {
          "base_uri": "https://localhost:8080/"
        },
        "id": "Yg8Mr6Jp8Tsd",
        "outputId": "dc867246-d3ec-415a-ab84-a614428b09eb"
      },
      "execution_count": 49,
      "outputs": [
        {
          "output_type": "stream",
          "name": "stdout",
          "text": [
            "Public IP Address: 34.29.177.115\n"
          ]
        }
      ]
    },
    {
      "cell_type": "code",
      "source": [
        "!git clone https://github.com/Sathishmahi/sliding_zone_obj_detector.git"
      ],
      "metadata": {
        "id": "Gnm5_E4RQE4F"
      },
      "execution_count": null,
      "outputs": []
    },
    {
      "cell_type": "code",
      "source": [
        "!streamlit run sliding_zone_obj_detector/app.py --server.port 8501 & npx localtunnel -p 8501"
      ],
      "metadata": {
        "id": "NlBt58X08fCg"
      },
      "execution_count": null,
      "outputs": []
    }
  ]
}